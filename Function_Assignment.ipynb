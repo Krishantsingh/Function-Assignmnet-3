{
  "nbformat": 4,
  "nbformat_minor": 0,
  "metadata": {
    "colab": {
      "provenance": [],
      "authorship_tag": "ABX9TyNfJMCtnCNRA7FWbazxBcnU",
      "include_colab_link": true
    },
    "kernelspec": {
      "name": "python3",
      "display_name": "Python 3"
    },
    "language_info": {
      "name": "python"
    }
  },
  "cells": [
    {
      "cell_type": "markdown",
      "metadata": {
        "id": "view-in-github",
        "colab_type": "text"
      },
      "source": [
        "<a href=\"https://colab.research.google.com/github/Krishantsingh/Function-Assignmnet-3/blob/main/Function_Assignment.ipynb\" target=\"_parent\"><img src=\"https://colab.research.google.com/assets/colab-badge.svg\" alt=\"Open In Colab\"/></a>"
      ]
    },
    {
      "cell_type": "markdown",
      "source": [
        "1. What is the difference between a function and a method in Python\n",
        "\n",
        "=  Function is a block of code which performs some specific task.It is made by\n",
        "   user  according to the need and requirement. For an example if i want to add to numbers, I can create a function for this,\n",
        "\n"
      ],
      "metadata": {
        "id": "kKsR6x5-lNwG"
      }
    },
    {
      "cell_type": "code",
      "source": [
        "def addition(x,y):\n",
        "  return x+y"
      ],
      "metadata": {
        "id": "NZOchADanBi0"
      },
      "execution_count": null,
      "outputs": []
    },
    {
      "cell_type": "code",
      "source": [
        "addition(2,5)"
      ],
      "metadata": {
        "colab": {
          "base_uri": "https://localhost:8080/"
        },
        "id": "IHxT_Sw_nqua",
        "outputId": "7e7680cd-0ecd-4c45-dead-b48b7c895506"
      },
      "execution_count": null,
      "outputs": [
        {
          "output_type": "execute_result",
          "data": {
            "text/plain": [
              "7"
            ]
          },
          "metadata": {},
          "execution_count": 2
        }
      ]
    },
    {
      "cell_type": "markdown",
      "source": [
        "Similary, Python method is inbulit function to perform some computation. User can not make any changes in this. For an example,"
      ],
      "metadata": {
        "id": "GB4CBYyRnw96"
      }
    },
    {
      "cell_type": "code",
      "source": [
        "print(\"hello\")"
      ],
      "metadata": {
        "colab": {
          "base_uri": "https://localhost:8080/"
        },
        "id": "6kP1xa73oCEU",
        "outputId": "aea039b2-2ac0-4f3c-df1c-7699c5616816"
      },
      "execution_count": null,
      "outputs": [
        {
          "output_type": "stream",
          "name": "stdout",
          "text": [
            "hello\n"
          ]
        }
      ]
    },
    {
      "cell_type": "markdown",
      "source": [
        "2. Create a Python function that accepts a string and returns the reverse of that string.\n",
        "\n",
        "   =The function that accepts a strings and return the reverse of that string is given below"
      ],
      "metadata": {
        "id": "61BbnNOcoGLr"
      }
    },
    {
      "cell_type": "code",
      "source": [
        "def reverse(x):\n",
        "  return x[::-1]"
      ],
      "metadata": {
        "id": "fHK9uYtFoEIx"
      },
      "execution_count": null,
      "outputs": []
    },
    {
      "cell_type": "code",
      "source": [
        "reverse(\"ram\")"
      ],
      "metadata": {
        "colab": {
          "base_uri": "https://localhost:8080/",
          "height": 35
        },
        "id": "qjWH-YKfpEFU",
        "outputId": "49cc28e0-face-48d7-d224-84fdd2b80ed7"
      },
      "execution_count": null,
      "outputs": [
        {
          "output_type": "execute_result",
          "data": {
            "text/plain": [
              "'mar'"
            ],
            "application/vnd.google.colaboratory.intrinsic+json": {
              "type": "string"
            }
          },
          "metadata": {},
          "execution_count": 7
        }
      ]
    },
    {
      "cell_type": "markdown",
      "source": [
        " 3. Implement a Python function that takes a list of integers and returns a new list containing the squares of each number.\n",
        "   = The function that takes a list of integers and return a new list containing the sqares of each element is given below"
      ],
      "metadata": {
        "id": "rJRkr1s2pQX0"
      }
    },
    {
      "cell_type": "code",
      "source": [
        "def square(x):\n",
        "  return[i**2 for i in x]"
      ],
      "metadata": {
        "id": "7ulfriZipJok"
      },
      "execution_count": null,
      "outputs": []
    },
    {
      "cell_type": "code",
      "source": [
        "square([1,2,3,4])"
      ],
      "metadata": {
        "colab": {
          "base_uri": "https://localhost:8080/"
        },
        "id": "ODeFirmuqt3U",
        "outputId": "aeac0f90-730c-4d8a-9889-def45a720143"
      },
      "execution_count": null,
      "outputs": [
        {
          "output_type": "execute_result",
          "data": {
            "text/plain": [
              "[1, 4, 9, 16]"
            ]
          },
          "metadata": {},
          "execution_count": 13
        }
      ]
    },
    {
      "cell_type": "markdown",
      "source": [
        "4.  Write a Python function that checks if a given number is prime or not from 1 to 200."
      ],
      "metadata": {
        "id": "dTpWZdo2r70K"
      }
    },
    {
      "cell_type": "code",
      "source": [
        "def is_prime(n):\n",
        "    \"\"\"Check if a number is prime.\"\"\"\n",
        "    if n <= 1:\n",
        "        return False\n",
        "    if n == 2 or n == 3:\n",
        "        return True\n",
        "    if n % 2 == 0:\n",
        "        return False\n",
        "    for i in range(3, int(n**0.5) + 1, 2):\n",
        "        if n % i == 0:\n",
        "            return False\n",
        "    return True"
      ],
      "metadata": {
        "id": "RjDjVB5FqwbF"
      },
      "execution_count": null,
      "outputs": []
    },
    {
      "cell_type": "code",
      "source": [
        "is_prime(79)"
      ],
      "metadata": {
        "colab": {
          "base_uri": "https://localhost:8080/"
        },
        "id": "ELaqJnYSt40d",
        "outputId": "f5cc4c46-15c5-4a9c-c1ab-8202141d32a3"
      },
      "execution_count": null,
      "outputs": [
        {
          "output_type": "execute_result",
          "data": {
            "text/plain": [
              "True"
            ]
          },
          "metadata": {},
          "execution_count": 36
        }
      ]
    },
    {
      "cell_type": "markdown",
      "source": [
        " 5. Create an iterator class in Python that generates the Fibonacci sequence up\n",
        "     to a specified number of terms."
      ],
      "metadata": {
        "id": "0pmAb9-6vc0Q"
      }
    },
    {
      "cell_type": "code",
      "source": [
        "def fib(n):\n",
        "  a=0\n",
        "  b=1\n",
        "  for i in range (n):\n",
        "    yield a\n",
        "    a,b=b,a+b"
      ],
      "metadata": {
        "id": "0xtOxYHIvhms"
      },
      "execution_count": null,
      "outputs": []
    },
    {
      "cell_type": "code",
      "source": [
        "a=fib(50)\n",
        "a\n"
      ],
      "metadata": {
        "colab": {
          "base_uri": "https://localhost:8080/"
        },
        "id": "-dJcgRj7w0II",
        "outputId": "2fa3beb2-8fad-444d-b0cf-0b474c4f8c5c"
      },
      "execution_count": null,
      "outputs": [
        {
          "output_type": "execute_result",
          "data": {
            "text/plain": [
              "<generator object fib at 0x7be9873c92a0>"
            ]
          },
          "metadata": {},
          "execution_count": 47
        }
      ]
    },
    {
      "cell_type": "code",
      "source": [
        "next(a)"
      ],
      "metadata": {
        "colab": {
          "base_uri": "https://localhost:8080/"
        },
        "id": "QLXCUqRVw4vF",
        "outputId": "34bdf6be-f3cf-4a20-9a04-c115cf89def4"
      },
      "execution_count": null,
      "outputs": [
        {
          "output_type": "execute_result",
          "data": {
            "text/plain": [
              "0"
            ]
          },
          "metadata": {},
          "execution_count": 49
        }
      ]
    },
    {
      "cell_type": "code",
      "source": [
        "next(a)"
      ],
      "metadata": {
        "colab": {
          "base_uri": "https://localhost:8080/"
        },
        "id": "xUrdAFGZxwyJ",
        "outputId": "e9c66dd8-adce-4d3f-baea-507b4fde8688"
      },
      "execution_count": null,
      "outputs": [
        {
          "output_type": "execute_result",
          "data": {
            "text/plain": [
              "1"
            ]
          },
          "metadata": {},
          "execution_count": 50
        }
      ]
    },
    {
      "cell_type": "markdown",
      "source": [
        " 6. Explain the concept of generators in Python and how they are defined.\n",
        "\n",
        "   =Generators in Python are a way to create iterators using a simpler syntax and less memory than traditional approaches. Instead of storing all the values in memory like a list, a generator computes the next value on-the-fly and returns it only when required. It is defined by the key yield.\n",
        "\n",
        "   example."
      ],
      "metadata": {
        "id": "zItrPQf66vtw"
      }
    },
    {
      "cell_type": "code",
      "source": [
        "def square(n):\n",
        "  for i in range(n):\n",
        "    yield i**2"
      ],
      "metadata": {
        "id": "H_Fw74ie61-v"
      },
      "execution_count": null,
      "outputs": []
    },
    {
      "cell_type": "code",
      "source": [
        "square(10)"
      ],
      "metadata": {
        "colab": {
          "base_uri": "https://localhost:8080/"
        },
        "id": "8Lm5FfjG7nIC",
        "outputId": "db26b381-3d13-46ee-9447-fcea333af6d7"
      },
      "execution_count": null,
      "outputs": [
        {
          "output_type": "execute_result",
          "data": {
            "text/plain": [
              "<generator object square at 0x79336e81b530>"
            ]
          },
          "metadata": {},
          "execution_count": 2
        }
      ]
    },
    {
      "cell_type": "code",
      "source": [
        "a=square(10)"
      ],
      "metadata": {
        "id": "ghC2Atzf7ph2"
      },
      "execution_count": null,
      "outputs": []
    },
    {
      "cell_type": "code",
      "source": [
        "next(a)"
      ],
      "metadata": {
        "colab": {
          "base_uri": "https://localhost:8080/"
        },
        "id": "1XPT0oj57ugT",
        "outputId": "3e3857f9-f179-4b28-f308-e85c8cc15486"
      },
      "execution_count": null,
      "outputs": [
        {
          "output_type": "execute_result",
          "data": {
            "text/plain": [
              "0"
            ]
          },
          "metadata": {},
          "execution_count": 8
        }
      ]
    },
    {
      "cell_type": "code",
      "source": [
        "next(a)"
      ],
      "metadata": {
        "colab": {
          "base_uri": "https://localhost:8080/"
        },
        "id": "fiTV_3Ax8ARN",
        "outputId": "37a5a1a4-8cb3-4bb2-a99e-afdfa727be40"
      },
      "execution_count": null,
      "outputs": [
        {
          "output_type": "execute_result",
          "data": {
            "text/plain": [
              "1"
            ]
          },
          "metadata": {},
          "execution_count": 9
        }
      ]
    },
    {
      "cell_type": "code",
      "source": [
        "next(a)"
      ],
      "metadata": {
        "colab": {
          "base_uri": "https://localhost:8080/"
        },
        "id": "JZh8bz718VZn",
        "outputId": "7c37b459-6cb2-4b11-88ff-8ccd1f0456d3"
      },
      "execution_count": null,
      "outputs": [
        {
          "output_type": "execute_result",
          "data": {
            "text/plain": [
              "4"
            ]
          },
          "metadata": {},
          "execution_count": 10
        }
      ]
    },
    {
      "cell_type": "markdown",
      "source": [
        "7. What are the advantages of using generators over regular functions?\n",
        "\n",
        "  =Some major advantages of using generators over regular function are as follow,\n",
        "   \n",
        "   -Less memory consumptions\n",
        "\n",
        "   -Fast execution\n",
        "\n",
        "   -Less time consumption\n",
        "   \n",
        "   -Easy to get required computation\n",
        "\n",
        "  example,\n",
        "\n",
        "  if i want square of number from 0-10\n"
      ],
      "metadata": {
        "id": "8mP39Im98dbg"
      }
    },
    {
      "cell_type": "code",
      "source": [
        "def square(n):\n",
        "  for i in range(n):\n",
        "    yield i**2\n"
      ],
      "metadata": {
        "id": "51H6rLCP8XCP"
      },
      "execution_count": null,
      "outputs": []
    },
    {
      "cell_type": "code",
      "source": [
        "a=square(10)\n",
        "a"
      ],
      "metadata": {
        "colab": {
          "base_uri": "https://localhost:8080/"
        },
        "id": "Rh7kgzwh97dS",
        "outputId": "005af438-e78b-4b20-bed4-fc802ab29d57"
      },
      "execution_count": null,
      "outputs": [
        {
          "output_type": "execute_result",
          "data": {
            "text/plain": [
              "<generator object square at 0x793351c44200>"
            ]
          },
          "metadata": {},
          "execution_count": 12
        }
      ]
    },
    {
      "cell_type": "code",
      "source": [
        "next(a)"
      ],
      "metadata": {
        "colab": {
          "base_uri": "https://localhost:8080/"
        },
        "id": "Mwzp7xe6-ASa",
        "outputId": "9e796648-d162-4816-8aed-bc765ebca8d8"
      },
      "execution_count": null,
      "outputs": [
        {
          "output_type": "execute_result",
          "data": {
            "text/plain": [
              "0"
            ]
          },
          "metadata": {},
          "execution_count": 13
        }
      ]
    },
    {
      "cell_type": "code",
      "source": [
        "next(a)"
      ],
      "metadata": {
        "colab": {
          "base_uri": "https://localhost:8080/"
        },
        "id": "G094OJd1-C9M",
        "outputId": "1deb505a-bcc5-4fc8-9dfc-cc6e1c1ae979"
      },
      "execution_count": null,
      "outputs": [
        {
          "output_type": "execute_result",
          "data": {
            "text/plain": [
              "1"
            ]
          },
          "metadata": {},
          "execution_count": 14
        }
      ]
    },
    {
      "cell_type": "code",
      "source": [
        "next(a)"
      ],
      "metadata": {
        "colab": {
          "base_uri": "https://localhost:8080/"
        },
        "id": "zz7Slnzo-EYd",
        "outputId": "0db92bbe-ee8b-4f31-a859-5b85e9f7dcc3"
      },
      "execution_count": null,
      "outputs": [
        {
          "output_type": "execute_result",
          "data": {
            "text/plain": [
              "4"
            ]
          },
          "metadata": {},
          "execution_count": 15
        }
      ]
    },
    {
      "cell_type": "markdown",
      "source": [
        "8. What is a lambda function in Python and when is it typically used?\n",
        "\n",
        "  =Lambda functionlambda function in Python is a small, anonymous\n",
        "   function that is defined using the lambda keyword.It is limited to a single function, so they dont need any function name.\n",
        "\n",
        "   Lambda functions are most commonly used in situations where you need a simple, throwaway function for a short period of time.\n",
        "\n",
        "   example,"
      ],
      "metadata": {
        "id": "21Uj-60b-Kdw"
      }
    },
    {
      "cell_type": "code",
      "source": [
        "# if i want square of any number\n",
        "square=lambda x: x**2\n"
      ],
      "metadata": {
        "id": "UjVkmPtI-F8q"
      },
      "execution_count": null,
      "outputs": []
    },
    {
      "cell_type": "code",
      "source": [
        "square(9)"
      ],
      "metadata": {
        "colab": {
          "base_uri": "https://localhost:8080/"
        },
        "id": "Vu2Max42_k0j",
        "outputId": "32c43098-f806-44c8-a42f-d04c1e638b47"
      },
      "execution_count": null,
      "outputs": [
        {
          "output_type": "execute_result",
          "data": {
            "text/plain": [
              "81"
            ]
          },
          "metadata": {},
          "execution_count": 17
        }
      ]
    },
    {
      "cell_type": "markdown",
      "source": [
        "9. Explain the purpose and usage of the `map()` function in Python.\n",
        "\n",
        "  =  It execute a specified function for each of item of an iterable.\n",
        "     It make an iterable that computes the function using arguments from each of the iterable.\n",
        "\n",
        "     The major purpose of map() is to simplify the process of applying a function to each item in an iterable without writing an explicit loop.\n",
        "\n",
        "     example,"
      ],
      "metadata": {
        "id": "3892NWad_rx7"
      }
    },
    {
      "cell_type": "code",
      "source": [
        "l=[1,2,3,4,5]\n",
        "def square(x):\n",
        "  return x**2"
      ],
      "metadata": {
        "id": "vM8YfWK3_nfj"
      },
      "execution_count": null,
      "outputs": []
    },
    {
      "cell_type": "code",
      "source": [
        "map(square,l)"
      ],
      "metadata": {
        "colab": {
          "base_uri": "https://localhost:8080/"
        },
        "id": "oNJyqVfDBf3G",
        "outputId": "bc302f7b-acc4-4a90-e9e8-a0d606506d2c"
      },
      "execution_count": null,
      "outputs": [
        {
          "output_type": "execute_result",
          "data": {
            "text/plain": [
              "<map at 0x793339921030>"
            ]
          },
          "metadata": {},
          "execution_count": 19
        }
      ]
    },
    {
      "cell_type": "code",
      "source": [
        "list(map(square,l))"
      ],
      "metadata": {
        "colab": {
          "base_uri": "https://localhost:8080/"
        },
        "id": "PnXAZEJyBiv6",
        "outputId": "e0f84282-c24e-49b0-d2b6-681c5a2bdae2"
      },
      "execution_count": null,
      "outputs": [
        {
          "output_type": "execute_result",
          "data": {
            "text/plain": [
              "[1, 4, 9, 16, 25]"
            ]
          },
          "metadata": {},
          "execution_count": 20
        }
      ]
    },
    {
      "cell_type": "markdown",
      "source": [
        "10.  What is the difference between `map()`, `reduce()`, and `filter( )` functions in Python?\n",
        "\n",
        " = Map() generally apply the function to each of the item of an iterable without using loop. Whereas reduce()  is used to apply a function cumulatively to the items of an iterable, reducing it to a single value. Similarly filter() is used to filter elements from an iterable based on some condition.\n",
        "\n",
        " example,"
      ],
      "metadata": {
        "id": "x3HOEEe0Btb3"
      }
    },
    {
      "cell_type": "code",
      "source": [
        "#map(), Square of number\n",
        "l=[1,2,3,4,5]\n",
        "def square(n):\n",
        "  return n**2"
      ],
      "metadata": {
        "id": "ZOwCFvQgBn99"
      },
      "execution_count": null,
      "outputs": []
    },
    {
      "cell_type": "code",
      "source": [
        "map(square,l)"
      ],
      "metadata": {
        "colab": {
          "base_uri": "https://localhost:8080/"
        },
        "id": "fiAjyoNKDmoH",
        "outputId": "5b6abcaf-8e02-46de-f4a3-0e05de95a53d"
      },
      "execution_count": null,
      "outputs": [
        {
          "output_type": "execute_result",
          "data": {
            "text/plain": [
              "<map at 0x7933398e3be0>"
            ]
          },
          "metadata": {},
          "execution_count": 24
        }
      ]
    },
    {
      "cell_type": "code",
      "source": [
        "list(map(square,l))"
      ],
      "metadata": {
        "colab": {
          "base_uri": "https://localhost:8080/"
        },
        "id": "zyYVSohJDo1l",
        "outputId": "fc1f686a-9038-450f-b700-86ecaa4aa8fc"
      },
      "execution_count": null,
      "outputs": [
        {
          "output_type": "execute_result",
          "data": {
            "text/plain": [
              "[1, 4, 9, 16, 25]"
            ]
          },
          "metadata": {},
          "execution_count": 25
        }
      ]
    },
    {
      "cell_type": "code",
      "source": [
        "#reduce, Addition\n",
        "from functools import reduce\n",
        "l=[1,2,3,4,5]\n",
        "reduce(lambda x,y:x+y,l)"
      ],
      "metadata": {
        "colab": {
          "base_uri": "https://localhost:8080/"
        },
        "id": "LcDe63OYDspn",
        "outputId": "1d91169f-6250-4108-c7e2-086273ae0af3"
      },
      "execution_count": null,
      "outputs": [
        {
          "output_type": "execute_result",
          "data": {
            "text/plain": [
              "15"
            ]
          },
          "metadata": {},
          "execution_count": 26
        }
      ]
    },
    {
      "cell_type": "code",
      "source": [
        "#filter, Even numbers\n",
        "l=[1,2,3,4,5,6,7,8,9]\n",
        "list(filter(lambda x: x%2==0,l))"
      ],
      "metadata": {
        "colab": {
          "base_uri": "https://localhost:8080/"
        },
        "id": "fbShGvSuEUdO",
        "outputId": "d8fb7d34-ba82-42e2-932c-db80b66dedc7"
      },
      "execution_count": null,
      "outputs": [
        {
          "output_type": "execute_result",
          "data": {
            "text/plain": [
              "[2, 4, 6, 8]"
            ]
          },
          "metadata": {},
          "execution_count": 27
        }
      ]
    },
    {
      "cell_type": "markdown",
      "source": [
        "11.  Using pen & Paper write the internal mechanism for sum operation\n",
        "     using  reduce function on this given\n",
        "     list:[47,11,42,13];"
      ],
      "metadata": {
        "id": "wrT_Gt60EwSg"
      }
    },
    {
      "cell_type": "markdown",
      "source": [
        "mechanism,\n",
        "\n",
        "l=[47,11,42,13]\n",
        "\n",
        "1st step= from the function x+y, 47+11 the result is 58\n",
        "\n",
        "2nd step= now x become 58 and y is 42, the result is 100\n",
        "\n",
        "3rd step= now x is 100 and y is 13, the result is 113"
      ],
      "metadata": {
        "id": "JiT4T0M2HmDa"
      }
    },
    {
      "cell_type": "code",
      "source": [
        "#code representation\n",
        "l=[47,11,42,13]\n",
        "from functools import reduce\n",
        "reduce(lambda x,y:x+y,l)"
      ],
      "metadata": {
        "colab": {
          "base_uri": "https://localhost:8080/"
        },
        "id": "S2xBeW0eEkpQ",
        "outputId": "44c4139b-7940-4bea-e782-f7f0a56943fd"
      },
      "execution_count": null,
      "outputs": [
        {
          "output_type": "execute_result",
          "data": {
            "text/plain": [
              "113"
            ]
          },
          "metadata": {},
          "execution_count": 30
        }
      ]
    },
    {
      "cell_type": "markdown",
      "source": [
        "Practical Questions"
      ],
      "metadata": {
        "id": "v-Z_-29BJZON"
      }
    },
    {
      "cell_type": "markdown",
      "source": [
        "1.  Write a Python function that takes a list of numbers as input and\n",
        "     returns the sum of all even numbers in\n",
        "     the list.\n",
        "\n",
        "      "
      ],
      "metadata": {
        "id": "I9NYivkbJc-V"
      }
    },
    {
      "cell_type": "code",
      "source": [
        "def even_sum(l):\n",
        "  even_sum=0\n",
        "  for i in l:\n",
        "    if i%2==0:\n",
        "      even_sum+=i\n",
        "  return even_sum"
      ],
      "metadata": {
        "id": "IcxwclhfJLbi"
      },
      "execution_count": null,
      "outputs": []
    },
    {
      "cell_type": "code",
      "source": [
        "even_sum([1,2,3,4,5,6,7,8,9])"
      ],
      "metadata": {
        "id": "3fw_FT-zKtMt",
        "colab": {
          "base_uri": "https://localhost:8080/"
        },
        "outputId": "4bce3c1f-74cc-4ed9-a143-98010f799e04"
      },
      "execution_count": null,
      "outputs": [
        {
          "output_type": "execute_result",
          "data": {
            "text/plain": [
              "20"
            ]
          },
          "metadata": {},
          "execution_count": 20
        }
      ]
    },
    {
      "cell_type": "markdown",
      "source": [
        " 2. Create a Python function that accepts a string and returns the reverse of that string."
      ],
      "metadata": {
        "id": "ufIXo44SVlSP"
      }
    },
    {
      "cell_type": "code",
      "source": [
        "def reverse(x):\n",
        "  return x[::-1]\n"
      ],
      "metadata": {
        "id": "O4FyxB_dSSE6"
      },
      "execution_count": null,
      "outputs": []
    },
    {
      "cell_type": "code",
      "source": [
        "reverse(\"hariram\")"
      ],
      "metadata": {
        "colab": {
          "base_uri": "https://localhost:8080/",
          "height": 35
        },
        "id": "5EpXLmtuVwCI",
        "outputId": "804ad2d9-5867-43f1-f3a8-cba40ada089e"
      },
      "execution_count": null,
      "outputs": [
        {
          "output_type": "execute_result",
          "data": {
            "text/plain": [
              "'marirah'"
            ],
            "application/vnd.google.colaboratory.intrinsic+json": {
              "type": "string"
            }
          },
          "metadata": {},
          "execution_count": 23
        }
      ]
    },
    {
      "cell_type": "markdown",
      "source": [
        " 3. Implement a Python function that takes a list of integers and returns a new list containing the squares of\n",
        "each number."
      ],
      "metadata": {
        "id": "_RiVEbTvV7VA"
      }
    },
    {
      "cell_type": "code",
      "source": [
        "def square(x):\n",
        "  square=[]\n",
        "  for i in x:\n",
        "    square.append(i**2)\n",
        "  return square"
      ],
      "metadata": {
        "id": "K7NQXalmV4Qm"
      },
      "execution_count": null,
      "outputs": []
    },
    {
      "cell_type": "code",
      "source": [
        "square([1,2,3,4,5,6])"
      ],
      "metadata": {
        "colab": {
          "base_uri": "https://localhost:8080/"
        },
        "id": "9mzZsCgHWTi3",
        "outputId": "66b17556-314a-4d30-a5eb-69c0646a788f"
      },
      "execution_count": null,
      "outputs": [
        {
          "output_type": "execute_result",
          "data": {
            "text/plain": [
              "[1, 4, 9, 16, 25, 36]"
            ]
          },
          "metadata": {},
          "execution_count": 25
        }
      ]
    },
    {
      "cell_type": "markdown",
      "source": [
        "4. Write a Python function that checks if a given number is prime or not from 1 to 200\n",
        "\n"
      ],
      "metadata": {
        "id": "LFET2XdXWYF0"
      }
    },
    {
      "cell_type": "code",
      "source": [
        "def is_prime(n):\n",
        "  for i in range(201):\n",
        "    if n < 2:\n",
        "        return False\n",
        "    for i in range(2, int(n**0.5) + 1):\n",
        "        if n % i == 0:\n",
        "            return False\n",
        "    return True\n",
        "  else:\n",
        "      print(\"out of range\")\n",
        "\n",
        "\n"
      ],
      "metadata": {
        "id": "_5bCu_q_WhPc"
      },
      "execution_count": null,
      "outputs": []
    },
    {
      "cell_type": "code",
      "source": [
        "is_prime(50)"
      ],
      "metadata": {
        "colab": {
          "base_uri": "https://localhost:8080/"
        },
        "id": "-15B55gCxr-n",
        "outputId": "3e0cee69-136d-425a-88d0-c70fb84571cb"
      },
      "execution_count": null,
      "outputs": [
        {
          "output_type": "execute_result",
          "data": {
            "text/plain": [
              "False"
            ]
          },
          "metadata": {},
          "execution_count": 3
        }
      ]
    },
    {
      "cell_type": "code",
      "source": [
        "is_prime(200)"
      ],
      "metadata": {
        "colab": {
          "base_uri": "https://localhost:8080/"
        },
        "id": "eJ51Pw1yyUS7",
        "outputId": "2df223d5-a7a2-4b07-db66-0b8579af987d"
      },
      "execution_count": null,
      "outputs": [
        {
          "output_type": "execute_result",
          "data": {
            "text/plain": [
              "False"
            ]
          },
          "metadata": {},
          "execution_count": 8
        }
      ]
    },
    {
      "cell_type": "markdown",
      "source": [
        "5. Create an iterator class in Python that generates the Fibonacci sequence up to a specified number of\n",
        "terms."
      ],
      "metadata": {
        "id": "mWUqJp6Lyxus"
      }
    },
    {
      "cell_type": "code",
      "source": [
        "def fib(n):\n",
        "  a=0\n",
        "  b=1\n",
        "  for i in range(n):\n",
        "    yield a\n",
        "    a,b=b,a+b"
      ],
      "metadata": {
        "id": "f2YrAmDNyrjw"
      },
      "execution_count": null,
      "outputs": []
    },
    {
      "cell_type": "code",
      "source": [
        "x=fib(25)\n",
        "x"
      ],
      "metadata": {
        "colab": {
          "base_uri": "https://localhost:8080/"
        },
        "id": "gKPuaadwzXEw",
        "outputId": "4987516c-9b22-47ca-ee80-8ed9a813e6c4"
      },
      "execution_count": null,
      "outputs": [
        {
          "output_type": "execute_result",
          "data": {
            "text/plain": [
              "<generator object fib at 0x7c4ad3250d60>"
            ]
          },
          "metadata": {},
          "execution_count": 11
        }
      ]
    },
    {
      "cell_type": "code",
      "source": [
        "next(x)"
      ],
      "metadata": {
        "colab": {
          "base_uri": "https://localhost:8080/"
        },
        "id": "Yct_WounzZX5",
        "outputId": "cffd22ba-27e7-40c7-fc48-7291286dff04"
      },
      "execution_count": null,
      "outputs": [
        {
          "output_type": "execute_result",
          "data": {
            "text/plain": [
              "0"
            ]
          },
          "metadata": {},
          "execution_count": 12
        }
      ]
    },
    {
      "cell_type": "code",
      "source": [
        "next(x)"
      ],
      "metadata": {
        "colab": {
          "base_uri": "https://localhost:8080/"
        },
        "id": "u3Mj0u2bzjL8",
        "outputId": "5c23ffac-4a73-4fc6-bd58-287003df84a4"
      },
      "execution_count": null,
      "outputs": [
        {
          "output_type": "execute_result",
          "data": {
            "text/plain": [
              "1"
            ]
          },
          "metadata": {},
          "execution_count": 13
        }
      ]
    },
    {
      "cell_type": "code",
      "source": [
        "next(x)"
      ],
      "metadata": {
        "colab": {
          "base_uri": "https://localhost:8080/"
        },
        "id": "3gr2PRMNzkdJ",
        "outputId": "ee7108d6-17ae-4614-93d5-cfcfb7108a39"
      },
      "execution_count": null,
      "outputs": [
        {
          "output_type": "execute_result",
          "data": {
            "text/plain": [
              "1"
            ]
          },
          "metadata": {},
          "execution_count": 14
        }
      ]
    },
    {
      "cell_type": "code",
      "source": [
        "next(x)"
      ],
      "metadata": {
        "colab": {
          "base_uri": "https://localhost:8080/"
        },
        "id": "JofgD1LezmJH",
        "outputId": "b5fd40e3-f042-415b-d947-858db51c4739"
      },
      "execution_count": null,
      "outputs": [
        {
          "output_type": "execute_result",
          "data": {
            "text/plain": [
              "2"
            ]
          },
          "metadata": {},
          "execution_count": 15
        }
      ]
    },
    {
      "cell_type": "code",
      "source": [
        "next(x)"
      ],
      "metadata": {
        "colab": {
          "base_uri": "https://localhost:8080/"
        },
        "id": "qAx8t4lLznUv",
        "outputId": "daf9c461-cd5d-4d38-975e-b943b017aacb"
      },
      "execution_count": null,
      "outputs": [
        {
          "output_type": "execute_result",
          "data": {
            "text/plain": [
              "3"
            ]
          },
          "metadata": {},
          "execution_count": 16
        }
      ]
    },
    {
      "cell_type": "code",
      "source": [
        "next(x)"
      ],
      "metadata": {
        "colab": {
          "base_uri": "https://localhost:8080/"
        },
        "id": "MgYbqmGkzoqL",
        "outputId": "a9cf2648-01c0-4fd4-ab05-8d79cac69875"
      },
      "execution_count": null,
      "outputs": [
        {
          "output_type": "execute_result",
          "data": {
            "text/plain": [
              "5"
            ]
          },
          "metadata": {},
          "execution_count": 17
        }
      ]
    },
    {
      "cell_type": "code",
      "source": [
        "next(x)"
      ],
      "metadata": {
        "colab": {
          "base_uri": "https://localhost:8080/"
        },
        "id": "OXEXS4rLzqmr",
        "outputId": "27cd1723-a54c-4524-bf9a-c03211ae4f48"
      },
      "execution_count": null,
      "outputs": [
        {
          "output_type": "execute_result",
          "data": {
            "text/plain": [
              "8"
            ]
          },
          "metadata": {},
          "execution_count": 18
        }
      ]
    },
    {
      "cell_type": "code",
      "source": [
        "next(x)"
      ],
      "metadata": {
        "colab": {
          "base_uri": "https://localhost:8080/"
        },
        "id": "UAeS__lczrai",
        "outputId": "531a4ce0-82e3-4a53-990e-050bea8fa3d7"
      },
      "execution_count": null,
      "outputs": [
        {
          "output_type": "execute_result",
          "data": {
            "text/plain": [
              "13"
            ]
          },
          "metadata": {},
          "execution_count": 19
        }
      ]
    },
    {
      "cell_type": "markdown",
      "source": [
        "6. Write a generator function in Python that yields the powers of 2 up to a given exponent."
      ],
      "metadata": {
        "id": "uYKGyL8Kz9KJ"
      }
    },
    {
      "cell_type": "code",
      "source": [
        "def two_power(n):\n",
        "  for i in range(n):\n",
        "    yield 2**i"
      ],
      "metadata": {
        "id": "MLQiCGt3ztGv"
      },
      "execution_count": null,
      "outputs": []
    },
    {
      "cell_type": "code",
      "source": [
        "k=two_power(10)"
      ],
      "metadata": {
        "id": "6KaWU5Kn0l10"
      },
      "execution_count": null,
      "outputs": []
    },
    {
      "cell_type": "code",
      "source": [
        "next(k)"
      ],
      "metadata": {
        "colab": {
          "base_uri": "https://localhost:8080/"
        },
        "id": "GElFYlj20ulk",
        "outputId": "23fa82ee-d659-43cb-a5ec-b411f4071370"
      },
      "execution_count": null,
      "outputs": [
        {
          "output_type": "execute_result",
          "data": {
            "text/plain": [
              "1"
            ]
          },
          "metadata": {},
          "execution_count": 25
        }
      ]
    },
    {
      "cell_type": "code",
      "source": [
        "next(k)"
      ],
      "metadata": {
        "colab": {
          "base_uri": "https://localhost:8080/"
        },
        "id": "d3UcFTHr0x1D",
        "outputId": "9b921e54-9a93-48e3-b395-010891c05252"
      },
      "execution_count": null,
      "outputs": [
        {
          "output_type": "execute_result",
          "data": {
            "text/plain": [
              "2"
            ]
          },
          "metadata": {},
          "execution_count": 26
        }
      ]
    },
    {
      "cell_type": "code",
      "source": [
        "next(k)"
      ],
      "metadata": {
        "colab": {
          "base_uri": "https://localhost:8080/"
        },
        "id": "bUxs2sj-0zaa",
        "outputId": "3304b92d-1641-40cc-b0c4-9ff690698779"
      },
      "execution_count": null,
      "outputs": [
        {
          "output_type": "execute_result",
          "data": {
            "text/plain": [
              "4"
            ]
          },
          "metadata": {},
          "execution_count": 27
        }
      ]
    },
    {
      "cell_type": "code",
      "source": [
        "next(k)"
      ],
      "metadata": {
        "colab": {
          "base_uri": "https://localhost:8080/"
        },
        "id": "4MgYb0c800Q9",
        "outputId": "0fda3926-aeaa-48d4-e695-c94e53aa7da1"
      },
      "execution_count": null,
      "outputs": [
        {
          "output_type": "execute_result",
          "data": {
            "text/plain": [
              "8"
            ]
          },
          "metadata": {},
          "execution_count": 29
        }
      ]
    },
    {
      "cell_type": "code",
      "source": [
        "next(k)"
      ],
      "metadata": {
        "colab": {
          "base_uri": "https://localhost:8080/"
        },
        "id": "G_RZcMxj02HC",
        "outputId": "ae502f85-d045-4f4b-bbee-ff0632ec208c"
      },
      "execution_count": null,
      "outputs": [
        {
          "output_type": "execute_result",
          "data": {
            "text/plain": [
              "16"
            ]
          },
          "metadata": {},
          "execution_count": 30
        }
      ]
    },
    {
      "cell_type": "code",
      "source": [
        "next(k)"
      ],
      "metadata": {
        "colab": {
          "base_uri": "https://localhost:8080/"
        },
        "id": "2nK-gOsO040o",
        "outputId": "474d4bae-f814-4477-f602-d220b883b3ba"
      },
      "execution_count": null,
      "outputs": [
        {
          "output_type": "execute_result",
          "data": {
            "text/plain": [
              "32"
            ]
          },
          "metadata": {},
          "execution_count": 31
        }
      ]
    },
    {
      "cell_type": "code",
      "source": [
        "next(k)"
      ],
      "metadata": {
        "colab": {
          "base_uri": "https://localhost:8080/"
        },
        "id": "Mh02E7za06Zi",
        "outputId": "d802826d-6b18-49f5-df02-ba72263403e2"
      },
      "execution_count": null,
      "outputs": [
        {
          "output_type": "execute_result",
          "data": {
            "text/plain": [
              "64"
            ]
          },
          "metadata": {},
          "execution_count": 32
        }
      ]
    },
    {
      "cell_type": "code",
      "source": [
        "next(k)"
      ],
      "metadata": {
        "colab": {
          "base_uri": "https://localhost:8080/"
        },
        "id": "JzdQgxyS07a7",
        "outputId": "07cf377e-f355-4744-b6ed-c44a4531ef4b"
      },
      "execution_count": null,
      "outputs": [
        {
          "output_type": "execute_result",
          "data": {
            "text/plain": [
              "128"
            ]
          },
          "metadata": {},
          "execution_count": 33
        }
      ]
    },
    {
      "cell_type": "code",
      "source": [
        "next(k)"
      ],
      "metadata": {
        "colab": {
          "base_uri": "https://localhost:8080/"
        },
        "id": "cXVP37UV08lP",
        "outputId": "b11e8722-324c-469f-c30e-1991b233f8d2"
      },
      "execution_count": null,
      "outputs": [
        {
          "output_type": "execute_result",
          "data": {
            "text/plain": [
              "256"
            ]
          },
          "metadata": {},
          "execution_count": 34
        }
      ]
    },
    {
      "cell_type": "code",
      "source": [
        "next(k)"
      ],
      "metadata": {
        "colab": {
          "base_uri": "https://localhost:8080/"
        },
        "id": "Y3L3TKOH1E85",
        "outputId": "5fdadc69-2b48-4876-a7cc-945b4038a676"
      },
      "execution_count": null,
      "outputs": [
        {
          "output_type": "execute_result",
          "data": {
            "text/plain": [
              "512"
            ]
          },
          "metadata": {},
          "execution_count": 35
        }
      ]
    },
    {
      "cell_type": "code",
      "source": [
        "next(k) #iteration stops here"
      ],
      "metadata": {
        "colab": {
          "base_uri": "https://localhost:8080/",
          "height": 141
        },
        "id": "VncFFlN81GU3",
        "outputId": "0e1773ab-b2eb-492f-8b74-a9db9a141524"
      },
      "execution_count": null,
      "outputs": [
        {
          "output_type": "error",
          "ename": "StopIteration",
          "evalue": "",
          "traceback": [
            "\u001b[0;31m---------------------------------------------------------------------------\u001b[0m",
            "\u001b[0;31mStopIteration\u001b[0m                             Traceback (most recent call last)",
            "\u001b[0;32m<ipython-input-37-6811c9493478>\u001b[0m in \u001b[0;36m<cell line: 1>\u001b[0;34m()\u001b[0m\n\u001b[0;32m----> 1\u001b[0;31m \u001b[0mnext\u001b[0m\u001b[0;34m(\u001b[0m\u001b[0mk\u001b[0m\u001b[0;34m)\u001b[0m \u001b[0;31m#iteration stops here\u001b[0m\u001b[0;34m\u001b[0m\u001b[0;34m\u001b[0m\u001b[0m\n\u001b[0m",
            "\u001b[0;31mStopIteration\u001b[0m: "
          ]
        }
      ]
    },
    {
      "cell_type": "markdown",
      "source": [
        "7. Implement a generator function that reads a file line by line and yields each line as a string."
      ],
      "metadata": {
        "id": "vyZa27_k1QJx"
      }
    },
    {
      "cell_type": "code",
      "source": [
        "\n",
        "def read_file(file_path):\n",
        "  with open(file_path, 'r') as file:\n",
        "    for line in file:\n",
        "      yield line"
      ],
      "metadata": {
        "id": "LEHNtu4X1HAT"
      },
      "execution_count": null,
      "outputs": []
    },
    {
      "cell_type": "code",
      "source": [
        "a=read_file(file_path='/content/sample_data/california_housing_test.csv')"
      ],
      "metadata": {
        "id": "L-yA2vedF66_"
      },
      "execution_count": null,
      "outputs": []
    },
    {
      "cell_type": "code",
      "source": [
        "next(a)"
      ],
      "metadata": {
        "colab": {
          "base_uri": "https://localhost:8080/",
          "height": 35
        },
        "id": "7ag3GdKlGUGI",
        "outputId": "860cee1b-7f90-44d4-9b39-f9fc5e971237"
      },
      "execution_count": null,
      "outputs": [
        {
          "output_type": "execute_result",
          "data": {
            "text/plain": [
              "'\"longitude\",\"latitude\",\"housing_median_age\",\"total_rooms\",\"total_bedrooms\",\"population\",\"households\",\"median_income\",\"median_house_value\"\\n'"
            ],
            "application/vnd.google.colaboratory.intrinsic+json": {
              "type": "string"
            }
          },
          "metadata": {},
          "execution_count": 26
        }
      ]
    },
    {
      "cell_type": "markdown",
      "source": [
        "8. Use a lambda function in Python to sort a list of tuples based on the second element of each tuple."
      ],
      "metadata": {
        "id": "RqiENg1d2v_0"
      }
    },
    {
      "cell_type": "code",
      "source": [
        "data = [(1, 3), (4, 1), (2, 5), (3, 2)]\n",
        "sorted_data = sorted(data, key=lambda x: x[1])\n",
        "print(\"Original list:\", data)\n",
        "print(\"Sorted list:\", sorted_data)"
      ],
      "metadata": {
        "colab": {
          "base_uri": "https://localhost:8080/"
        },
        "id": "M6pEGuss235p",
        "outputId": "be40a5e2-c83f-4061-c14b-e25c7f01c4ca"
      },
      "execution_count": null,
      "outputs": [
        {
          "output_type": "stream",
          "name": "stdout",
          "text": [
            "Original list: [(1, 3), (4, 1), (2, 5), (3, 2)]\n",
            "Sorted list: [(4, 1), (3, 2), (1, 3), (2, 5)]\n"
          ]
        }
      ]
    },
    {
      "cell_type": "markdown",
      "source": [
        "9. Write a Python program that uses `map()` to convert a list of temperatures from Celsius to Fahrenheit."
      ],
      "metadata": {
        "id": "yvmgF5xu3D4s"
      }
    },
    {
      "cell_type": "code",
      "source": [
        "def celsius_to_fahrenheit(celsius):\n",
        "    return (celsius * 9/5) + 32\n",
        "\n",
        "celsius_temperatures = [0, 20, 37, 100]\n",
        "fahrenheit_temperatures = list(map(celsius_to_fahrenheit, celsius_temperatures))\n",
        "print(\"Celsius temperatures:\", celsius_temperatures)\n",
        "print(\"Fahrenheit temperatures:\", fahrenheit_temperatures)"
      ],
      "metadata": {
        "colab": {
          "base_uri": "https://localhost:8080/"
        },
        "id": "qBP4EwYe3KH9",
        "outputId": "b9b672d2-7fbe-47c0-9d41-fd5e707d3221"
      },
      "execution_count": null,
      "outputs": [
        {
          "output_type": "stream",
          "name": "stdout",
          "text": [
            "Celsius temperatures: [0, 20, 37, 100]\n",
            "Fahrenheit temperatures: [32.0, 68.0, 98.6, 212.0]\n"
          ]
        }
      ]
    },
    {
      "cell_type": "markdown",
      "source": [
        "10.  Create a Python program that uses `filter()` to remove all the vowels from a given string."
      ],
      "metadata": {
        "id": "HLx9pogs6xiy"
      }
    },
    {
      "cell_type": "code",
      "source": [
        "def remove_vowels(strings):\n",
        "  vowels=\"aeiouAEIOU\"\n",
        "  return \"\".join(filter(lambda x:x not in vowels,strings))"
      ],
      "metadata": {
        "id": "w9VB7Ais5w3k"
      },
      "execution_count": null,
      "outputs": []
    },
    {
      "cell_type": "code",
      "source": [
        "remove_vowels(\"i am a boy\")"
      ],
      "metadata": {
        "colab": {
          "base_uri": "https://localhost:8080/",
          "height": 35
        },
        "id": "4LM3fyP07yGo",
        "outputId": "bc4abc43-9fe1-4d43-80fd-7fa090a107b6"
      },
      "execution_count": null,
      "outputs": [
        {
          "output_type": "execute_result",
          "data": {
            "text/plain": [
              "' m  by'"
            ],
            "application/vnd.google.colaboratory.intrinsic+json": {
              "type": "string"
            }
          },
          "metadata": {},
          "execution_count": 51
        }
      ]
    },
    {
      "cell_type": "markdown",
      "source": [
        "11. = Answer is as follow"
      ],
      "metadata": {
        "id": "5SA6foOz8kDL"
      }
    },
    {
      "cell_type": "code",
      "source": [
        "def process_orders(orders):\n",
        "    result = []\n",
        "    for order in orders:\n",
        "        order_number, price_per_item, quantity = order\n",
        "        total_value = price_per_item * quantity\n",
        "        if total_value < 10000:\n",
        "            total_value += 10\n",
        "        result.append((order_number, total_value))\n",
        "    return result\n"
      ],
      "metadata": {
        "id": "DyYYIASM74dV"
      },
      "execution_count": null,
      "outputs": []
    },
    {
      "cell_type": "code",
      "source": [
        "orders=[[33587,4,40.95],\n",
        "       [98763,5,56.80],\n",
        "       [77226,3,32.95],\n",
        "       [88112,3,24.99]]\n"
      ],
      "metadata": {
        "id": "lEpuJzsb8iI3"
      },
      "execution_count": null,
      "outputs": []
    },
    {
      "cell_type": "code",
      "source": [
        "process_orders(orders)"
      ],
      "metadata": {
        "colab": {
          "base_uri": "https://localhost:8080/"
        },
        "id": "cyw4ifVS4Mvp",
        "outputId": "97c2f7f8-e275-4d24-a622-40f8f1f37172"
      },
      "execution_count": null,
      "outputs": [
        {
          "output_type": "execute_result",
          "data": {
            "text/plain": [
              "[(33587, 173.8), (98763, 294.0), (77226, 108.85000000000001), (88112, 84.97)]"
            ]
          },
          "metadata": {},
          "execution_count": 15
        }
      ]
    }
  ]
}